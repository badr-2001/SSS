{
  "nbformat": 4,
  "nbformat_minor": 0,
  "metadata": {
    "colab": {
      "provenance": []
    },
    "kernelspec": {
      "name": "python3",
      "display_name": "Python 3"
    },
    "language_info": {
      "name": "python"
    }
  },
  "cells": [
    {
      "cell_type": "code",
      "execution_count": 9,
      "metadata": {
        "id": "XQTyQ_AMlddQ"
      },
      "outputs": [],
      "source": [
        "!pip install ultralytics\n",
        "\n",
        "from IPython import display\n",
        "display.clear_output()\n",
        "import os\n",
        "import cv2\n",
        "import numpy as np\n",
        "from moviepy.editor import VideoFileClip\n",
        "import moviepy.video.fx.all as vfx\n",
        "import pandas as pd\n",
        "from PIL import Image\n",
        "import csv\n",
        "import math\n",
        "from ultralytics  import YOLO\n",
        "import time\n",
        "from keras.models import load_model\n",
        "from PIL import Image\n",
        "import csv"
      ]
    },
    {
      "cell_type": "code",
      "source": [
        "def divide_image1(image, output_directory, rows, cols):\n",
        "    # Ouvrir l'image\n",
        "    img = Image.open(image_path)\n",
        "\n",
        "    # Obtenir les dimensions de l'image\n",
        "    img_width, img_height = img.size\n",
        "\n",
        "    # Calculer les dimensions d'une zone\n",
        "    zone_width = img_width // cols\n",
        "    zone_height = img_height // rows\n",
        "\n",
        "    # Diviser l'image en zones\n",
        "    with open(f\"{output_directory}/zones_info.csv\", \"w\", newline=\"\") as csvfile:\n",
        "        fieldnames = [\"zone_id\", \"x0\", \"y0\", \"x1\", \"y1\"]\n",
        "        writer = csv.DictWriter(csvfile, fieldnames=fieldnames)\n",
        "        writer.writeheader()\n",
        "\n",
        "        for row in range(rows):\n",
        "            for col in range(cols):\n",
        "                # Coordonnées du coin supérieur gauche de la zone\n",
        "                x0 = col * zone_width\n",
        "                y0 = row * zone_height\n",
        "\n",
        "                # Coordonnées du coin inférieur droit de la zone\n",
        "                x1 = x0 + zone_width\n",
        "                y1 = y0 + zone_height\n",
        "\n",
        "                # Extraire la zone de l'image\n",
        "                zone_img = img.crop((x0, y0, x1, y1))\n",
        "\n",
        "                # Sauvegarder la zone dans un fichier\n",
        "                zone_img.save(f\"{output_directory}/zone_{row}_{col}.png\")\n",
        "\n",
        "                # Écrire les informations de la zone dans le fichier CSV\n",
        "                writer.writerow({\"zone_id\": f\"zone_{row}_{col}\", \"x0\": x0, \"y0\": y0, \"x1\": x1, \"y1\": y1})\n",
        "\n",
        "# Appeler la fonction avec le chemin de votre image et le répertoire de sortie\n",
        "image_path = \"/content/Swim-safety_blog-banner.jpg\"\n",
        "output_directory = \"/content/\"\n",
        "rows = 3\n",
        "cols = 3\n",
        "divide_image1(image_path, output_directory, rows, cols)"
      ],
      "metadata": {
        "id": "g7jyOLeMl_3D"
      },
      "execution_count": 10,
      "outputs": []
    },
    {
      "cell_type": "code",
      "source": [
        "# YOLO class definition is assumed to be defined elsewhere in the code.\n",
        "\n",
        "def detect_objects_in_zone(zone_image_path, model_path, conf_val, output_directory, iou, agnostic_nms):\n",
        "    # Create an instance of the YOLO model using the specified model path\n",
        "    model = YOLO(model_path)\n",
        "\n",
        "    # Read the input image and convert it to a NumPy array in BGR format\n",
        "    frame = Image.open(zone_image_path)\n",
        "    frame_np = cv2.cvtColor(np.array(frame), cv2.COLOR_RGB2BGR)\n",
        "\n",
        "    # Perform object detection using the YOLO model on the input image\n",
        "    result = model.predict(frame, conf=conf_val, classes = 0, iou = iou,agnostic_nms = agnostic_nms, show=False, verbose=False)\n",
        "\n",
        "    # Count the number of swimmers detected\n",
        "    boxes = result[0].boxes\n",
        "    num_swimmers = 0\n",
        "    for box in boxes:\n",
        "        confidence = box.conf[0]\n",
        "        confidence = math.ceil(confidence * 100)\n",
        "        if confidence > 25:\n",
        "            num_swimmers += 1\n",
        "            x1, y1, x2, y2 = box.xyxy[0]\n",
        "            x1, y1, x2, y2 = int(x1), int(y1), int(x2), int(y2)\n",
        "            # Draw a rectangle around the detected object on the image\n",
        "            cv2.rectangle(frame_np, (x1, y1), (x2, y2), (0, 0, 255), 5)\n",
        "\n",
        "    # Draw text on the image to display the number of swimmers detected\n",
        "    cv2.putText(frame_np, f'{\"num_swimmers :\"} {num_swimmers}', (5, 40), cv2.FONT_HERSHEY_SIMPLEX, 1.5, (0, 255, 0), 4)\n",
        "\n",
        "    # Save the modified image with rectangles and text\n",
        "    filename = os.path.basename(zone_image_path)\n",
        "    filename = os.path.splitext(filename)[0]  # Remove the file extension\n",
        "    new_filename = f\"{filename}_{num_swimmers}.png\"\n",
        "    output_path = os.path.join(output_directory, new_filename)\n",
        "    cv2.imwrite(output_path, frame_np)\n",
        "\n",
        "    # Return the total number of swimmers detected\n",
        "    return num_swimmers\n",
        "\n",
        "# Example usage:\n",
        "row = 2\n",
        "col = 2\n",
        "zone_image_path = f\"/content/zone_{row}_{col}.png\"\n",
        "model_path = 'yolov8x.pt'\n",
        "conf_val = 0.28\n",
        "iou_vl = 0.4\n",
        "agnostic_nms_vl = True\n",
        "output_directory = \"/content/\"\n",
        "num_swimmers = detect_objects_in_zone(zone_image_path, model_path, conf_val, output_directory, iou = iou_vl,agnostic_nms = agnostic_nms_vl)"
      ],
      "metadata": {
        "colab": {
          "base_uri": "https://localhost:8080/"
        },
        "id": "h28UwGfGl_6X",
        "outputId": "db4c1430-adea-483b-9117-82a776298d10"
      },
      "execution_count": 11,
      "outputs": [
        {
          "output_type": "stream",
          "name": "stderr",
          "text": [
            "Downloading https://github.com/ultralytics/assets/releases/download/v0.0.0/yolov8x.pt to 'yolov8x.pt'...\n",
            "100%|██████████| 131M/131M [00:00<00:00, 220MB/s]\n"
          ]
        }
      ]
    },
    {
      "cell_type": "code",
      "source": [
        "model_path = 'yolov8x.pt'\n",
        "output_directory = \"/content/\"\n",
        "list_num_swimmers = []\n",
        "for row in range(rows):\n",
        "  for col in range(cols):\n",
        "    zone_image_path = f\"/content/zone_{row}_{col}.png\"\n",
        "    num_swimmers = detect_objects_in_zone(zone_image_path, model_path, conf_val, output_directory, iou = iou_vl,agnostic_nms = agnostic_nms_vl)\n",
        "    list_num_swimmers.append(num_swimmers)"
      ],
      "metadata": {
        "id": "Dfzj5EdomCs9"
      },
      "execution_count": 12,
      "outputs": []
    },
    {
      "cell_type": "code",
      "source": [
        "# Read the existing CSV file into a pandas DataFrame\n",
        "csv_file_path = \"/content/zones_info.csv\"\n",
        "df_zones = pd.read_csv(csv_file_path)\n",
        "\n",
        "# Add the 'num_swimmers' column to the DataFrame\n",
        "df_zones['num_swimmers'] = list_num_swimmers\n",
        "\n",
        "# Save the updated DataFrame back to the CSV file\n",
        "df_zones.to_csv(csv_file_path, index=False)"
      ],
      "metadata": {
        "id": "Wcqz_86JmPAT"
      },
      "execution_count": 13,
      "outputs": []
    },
    {
      "cell_type": "code",
      "source": [
        "zones = rows * cols\n",
        "zone_levl = 0\n",
        "zones_a_masque = []\n",
        "for zone_id in range(zones):\n",
        "  zone_levl += 1\n",
        "  num_swimmers = df_zones.loc[zone_id, 'num_swimmers']\n",
        "  if (zone_levl < 4 and num_swimmers > 8):\n",
        "    zones_a_masque.append(zone_id)\n",
        "  if (zone_levl >= 4 and zone_levl < 7 and num_swimmers > 5):\n",
        "    zones_a_masque.append(zone_id)\n",
        "  if (zone_levl >= 7 and zone_levl < 10 and num_swimmers > 2):\n",
        "    zones_a_masque.append(zone_id)\n",
        "\n",
        "zones_a_masque"
      ],
      "metadata": {
        "colab": {
          "base_uri": "https://localhost:8080/"
        },
        "id": "unSGWXA3mRh3",
        "outputId": "e95bf814-978f-4183-b491-881bb417890d"
      },
      "execution_count": 14,
      "outputs": [
        {
          "output_type": "execute_result",
          "data": {
            "text/plain": [
              "[4, 5, 6, 7, 8]"
            ]
          },
          "metadata": {},
          "execution_count": 14
        }
      ]
    },
    {
      "cell_type": "code",
      "source": [
        "# Charger l'image\n",
        "image = cv2.imread(\"/content/Swim-safety_blog-banner.jpg\")\n",
        "\n",
        "# Créer un masque vide (tout en blanc)\n",
        "mask = np.ones(image.shape, dtype=np.uint8) * 255\n",
        "\n",
        "# Boucle pour masquer chaque zone\n",
        "for zone_id in zones_a_masque:\n",
        "    x0 = df_zones.loc[zone_id, 'x0']\n",
        "    y0 = df_zones.loc[zone_id, 'y0']\n",
        "    x1 = df_zones.loc[zone_id, 'x1']\n",
        "    y1 = df_zones.loc[zone_id, 'y1']\n",
        "\n",
        "    # Créer un masque pour la zone à masquer (tout en noir)\n",
        "    cv2.rectangle(mask, (x0, y0), (x1, y1), (0, 0, 0), -1)\n",
        "\n",
        "# Masquer les zones dans l'image\n",
        "masked_image = cv2.bitwise_and(image, mask)\n",
        "\n",
        "# Afficher l'image masquée\n",
        "cv2.imwrite(\"/content/masked_image.png\", masked_image)\n"
      ],
      "metadata": {
        "colab": {
          "base_uri": "https://localhost:8080/"
        },
        "id": "t5p0YrHQmPEA",
        "outputId": "77375c5e-18e2-42ec-919e-c84a35c2b097"
      },
      "execution_count": 15,
      "outputs": [
        {
          "output_type": "execute_result",
          "data": {
            "text/plain": [
              "True"
            ]
          },
          "metadata": {},
          "execution_count": 15
        }
      ]
    },
    {
      "cell_type": "code",
      "source": [],
      "metadata": {
        "id": "x0TO8LZ_mCwN"
      },
      "execution_count": null,
      "outputs": []
    }
  ]
}